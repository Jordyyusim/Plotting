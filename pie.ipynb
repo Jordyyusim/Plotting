{
 "cells": [
  {
   "cell_type": "markdown",
   "metadata": {},
   "source": [
    "# _PIE_\n",
    "<HR>\n",
    "<HR>"
   ]
  },
  {
   "cell_type": "code",
   "execution_count": null,
   "metadata": {},
   "outputs": [],
   "source": [
    "import numpy as np\n",
    "import pandas as pd\n",
    "import matplotlib.pyplot as plt"
   ]
  },
  {
   "cell_type": "code",
   "execution_count": null,
   "metadata": {},
   "outputs": [],
   "source": [
    "data = [72, 73, 75]\n",
    "notes = ['Madrid', 'Barca', 'Draw']\n",
    "\n",
    "plt.pie(data, labels=notes)\n",
    "plt.show()"
   ]
  },
  {
   "cell_type": "markdown",
   "metadata": {},
   "source": [
    "### _STYLING PIE_\n",
    "#### colors = pie filling color\n",
    "#### shadow = shadows pie\n",
    "#### startangle = starts angle\n",
    "#### counterclock = ( True or False) if false the pie gonna clockwise. by default is True (counter-clockwise)\n",
    "#### explode = takes off the pie from center\n",
    "#### set_linewidth = pie line width\n",
    "#### set_edgecolor = pie line border line\n",
    "#### set_color = text color"
   ]
  },
  {
   "cell_type": "code",
   "execution_count": null,
   "metadata": {},
   "outputs": [],
   "source": [
    "plt.pie(data, labels=notes, colors=['r', 'g', 'b'], shadow=True, \n",
    "        startangle=0, counterclock=False,\n",
    "       explode = (0, 0, 0.2))\n",
    "plt.show()"
   ]
  },
  {
   "cell_type": "markdown",
   "metadata": {},
   "source": [
    "#### w = wedge\n",
    "#### l = text label\n",
    "#### p = percentage\n",
    "#### autopct = '%.1f%%' = show percentage of data"
   ]
  },
  {
   "cell_type": "code",
   "execution_count": null,
   "metadata": {},
   "outputs": [],
   "source": [
    "w, l, p = plt.pie(data, labels=notes, colors=['r', 'g', 'b'], autopct = '%.1f%%')\n",
    "\n",
    "for i in w:\n",
    "    i.set_linewidth(1)\n",
    "    i.set_edgecolor('k')\n",
    "\n",
    "for i in p:\n",
    "    i.set_color('w')\n",
    "\n",
    "p[0].set_color('k')\n",
    "l[1].set_color('purple')\n",
    "plt.show()"
   ]
  },
  {
   "cell_type": "code",
   "execution_count": null,
   "metadata": {},
   "outputs": [],
   "source": []
  }
 ],
 "metadata": {
  "kernelspec": {
   "display_name": "Python 3",
   "language": "python",
   "name": "python3"
  },
  "language_info": {
   "codemirror_mode": {
    "name": "ipython",
    "version": 3
   },
   "file_extension": ".py",
   "mimetype": "text/x-python",
   "name": "python",
   "nbconvert_exporter": "python",
   "pygments_lexer": "ipython3",
   "version": "3.8.1"
  }
 },
 "nbformat": 4,
 "nbformat_minor": 4
}
