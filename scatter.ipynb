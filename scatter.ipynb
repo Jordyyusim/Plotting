{
 "cells": [
  {
   "cell_type": "markdown",
   "metadata": {},
   "source": [
    "# __SCATTER PLOT__\n",
    "<HR>\n",
    "<HR>"
   ]
  },
  {
   "cell_type": "markdown",
   "metadata": {},
   "source": [
    "### A plot with marks not line"
   ]
  },
  {
   "cell_type": "code",
   "execution_count": null,
   "metadata": {},
   "outputs": [],
   "source": [
    "import numpy as np\n",
    "import pandas as pd\n",
    "import matplotlib.pyplot as plt"
   ]
  },
  {
   "cell_type": "code",
   "execution_count": null,
   "metadata": {},
   "outputs": [],
   "source": [
    "x = pd.DataFrame({\n",
    "    'Massa' : np.arange(40, 100, 5),\n",
    "    'Tinggi' : np.arange(160, 172, 1)\n",
    "})"
   ]
  },
  {
   "cell_type": "code",
   "execution_count": null,
   "metadata": {},
   "outputs": [],
   "source": [
    "plt.subplot(121)\n",
    "plt.scatter(x['Massa'], x['Tinggi'])\n",
    "\n",
    "plt.subplot(122)\n",
    "plt.plot(x['Massa'], x['Tinggi'], 'o')"
   ]
  },
  {
   "cell_type": "markdown",
   "metadata": {},
   "source": [
    "### _STYLING SCATTER PLOT_"
   ]
  },
  {
   "cell_type": "markdown",
   "metadata": {},
   "source": [
    "#### size / s = marker size\n",
    "#### marker = marker forms\n",
    "#### color / c = marker color\n",
    "#### colormap / cmap = set sebagai float dulu"
   ]
  },
  {
   "cell_type": "markdown",
   "metadata": {},
   "source": [
    "plt.scatter(x['Massa'], x['Tinggi'], s=300, marker='*', c='y')\n",
    "plt.show()"
   ]
  },
  {
   "cell_type": "markdown",
   "metadata": {},
   "source": [
    "### You can change the color for every marks in a scatter plot but the list of colors value must be same with markers value"
   ]
  },
  {
   "cell_type": "code",
   "execution_count": null,
   "metadata": {},
   "outputs": [],
   "source": [
    "plt.scatter(x['Massa'], x['Tinggi'], s=300, marker='*', \n",
    "            c=list('rgbcmykrgbcm'))\n",
    "plt.show()"
   ]
  },
  {
   "cell_type": "markdown",
   "metadata": {},
   "source": [
    "#### colormap / cmap = Change the marks color into the \n",
    "#### cmap can only be used when the colors are float type (gradation)\n",
    "\n",
    "#### edgecolor = give the marks border a color"
   ]
  },
  {
   "cell_type": "code",
   "execution_count": null,
   "metadata": {},
   "outputs": [],
   "source": [
    "plt.scatter(x['Massa'], x['Tinggi'], s=300, marker='o', \n",
    "            c=np.arange(0,1.2,0.1), cmap = 'hot', edgecolor = 'k')\n",
    "plt.legend(['Massa vs Tinggi'])\n",
    "plt.show()"
   ]
  },
  {
   "cell_type": "markdown",
   "metadata": {},
   "source": [
    "### _Cari Gradient_"
   ]
  },
  {
   "cell_type": "code",
   "execution_count": null,
   "metadata": {},
   "outputs": [],
   "source": [
    "x.head(3)"
   ]
  },
  {
   "cell_type": "markdown",
   "metadata": {},
   "source": [
    "y = mx + c\n",
    "Tinggi = m Massa + c\n",
    "161 = m 45 + c\n",
    "160 = m 40 + c\n",
    "\n",
    "m = 1/5\n",
    "c = 152"
   ]
  }
 ],
 "metadata": {
  "kernelspec": {
   "display_name": "Python 3",
   "language": "python",
   "name": "python3"
  },
  "language_info": {
   "codemirror_mode": {
    "name": "ipython",
    "version": 3
   },
   "file_extension": ".py",
   "mimetype": "text/x-python",
   "name": "python",
   "nbconvert_exporter": "python",
   "pygments_lexer": "ipython3",
   "version": "3.8.1"
  }
 },
 "nbformat": 4,
 "nbformat_minor": 4
}
