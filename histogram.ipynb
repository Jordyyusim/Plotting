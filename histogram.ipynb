{
 "cells": [
  {
   "cell_type": "markdown",
   "metadata": {},
   "source": [
    "# _HISTOGRAM_\n",
    "<HR>\n",
    "<HR>"
   ]
  },
  {
   "cell_type": "markdown",
   "metadata": {},
   "source": [
    "### 1. Decide how many bins\n",
    "### 2. Decide bins width = range / total bar. range = maximum value - minimum value\n",
    "### 3. Decide bins range & frequency\n",
    "### - __first bins : 0 - x__\n",
    "### - __second bins : x - y__\n",
    "### - __so on__"
   ]
  },
  {
   "cell_type": "code",
   "execution_count": 1,
   "metadata": {},
   "outputs": [],
   "source": [
    "import numpy as np\n",
    "import pandas as pd\n",
    "import matplotlib.pyplot as plt"
   ]
  },
  {
   "cell_type": "code",
   "execution_count": null,
   "metadata": {},
   "outputs": [],
   "source": [
    "x = [4,6,6,7,11,13,18,18,18,21,24,26,27,35,36,36,42,43,45,49]\n",
    "\n",
    "bins = [3.5, 13.5, 23.5, 33.5, 43.5, 53.5]\n",
    "plt.hist(x, bins)\n",
    "plt.xticks(bins)\n",
    "plt.show()\n"
   ]
  },
  {
   "cell_type": "markdown",
   "metadata": {},
   "source": [
    "### _UNIFORM HISTOGRAM_"
   ]
  },
  {
   "cell_type": "code",
   "execution_count": 2,
   "metadata": {},
   "outputs": [
    {
     "data": {
      "image/png": "[encoded data removed]",
      "text/plain": [
       "<Figure size 432x288 with 1 Axes>"
      ]
     },
     "metadata": {
      "needs_background": "light"
     },
     "output_type": "display_data"
    }
   ],
   "source": [
    "x = [3.5, 13.5, 23.5, 33.5, 43.5, 53.5]\n",
    "y = [5,5,5,15,15,15,30,30,30,35,35,35,45,45,45]\n",
    "plt.hist(y, x)\n",
    "plt.title('Uniform Histogram')\n",
    "plt.show()"
   ]
  },
  {
   "cell_type": "markdown",
   "metadata": {},
   "source": [
    "### _V-SHAPE HISTOGRAM_"
   ]
  },
  {
   "cell_type": "code",
   "execution_count": 3,
   "metadata": {},
   "outputs": [
    {
     "data": {
      "image/png": "[encoded data removed]",
      "text/plain": [
       "<Figure size 432x288 with 1 Axes>"
      ]
     },
     "metadata": {
      "needs_background": "light"
     },
     "output_type": "display_data"
    }
   ],
   "source": [
    "x = [3.5, 13.5, 23.5, 33.5, 43.5, 53.5]\n",
    "y = [5,5,5,5,5,15,15,30,35,35,45,45,45,45,45]\n",
    "plt.hist(y, x)\n",
    "plt.title('V-Shape Histogram')\n",
    "plt.show()"
   ]
  },
  {
   "cell_type": "markdown",
   "metadata": {},
   "source": [
    "### _NORMAL HISTOGRAM_"
   ]
  },
  {
   "cell_type": "code",
   "execution_count": null,
   "metadata": {},
   "outputs": [],
   "source": [
    "x = [3.5, 13.5, 23.5, 33.5, 43.5, 53.5]\n",
    "y = [5,15,15,15,30,30,30,30,30,30,30,35,35,35,45]\n",
    "plt.hist(y, x)\n",
    "plt.title('Normal Histogram')\n",
    "plt.show()"
   ]
  },
  {
   "cell_type": "markdown",
   "metadata": {},
   "source": [
    "### _SYMMETRICAL HISTOGRAM_"
   ]
  },
  {
   "cell_type": "code",
   "execution_count": null,
   "metadata": {},
   "outputs": [],
   "source": [
    "x = [3.5, 13.5, 23.5, 33.5, 43.5, 53.5]\n",
    "y = [5,5,5,5,15,15,30,30,30,35,35,45,45,45,45]\n",
    "plt.hist(y, x)\n",
    "plt.title('Symmetrical Histogram')\n",
    "plt.show()"
   ]
  },
  {
   "cell_type": "markdown",
   "metadata": {},
   "source": [
    "### _SKEWED-LEFT HISTOGRAM_"
   ]
  },
  {
   "cell_type": "code",
   "execution_count": null,
   "metadata": {},
   "outputs": [],
   "source": [
    "x = [3.5, 13.5, 23.5, 33.5, 43.5, 53.5]\n",
    "y = [5,5,5,5,15,15,15,15,15,30,30,30,30,35,45]\n",
    "plt.hist(y, x)\n",
    "plt.title('Skewed-Left Histogram')\n",
    "plt.show()"
   ]
  },
  {
   "cell_type": "markdown",
   "metadata": {},
   "source": [
    "### _SKEWED-RIGHT HISTOGRAM_"
   ]
  },
  {
   "cell_type": "code",
   "execution_count": null,
   "metadata": {},
   "outputs": [],
   "source": [
    "x = [3.5, 13.5, 23.5, 33.5, 43.5, 53.5]\n",
    "y = [45,45,45,45,35,35,35,35,35,30,30,30,30,15,5]\n",
    "plt.hist(y, x)\n",
    "plt.title('Skewed-Right Histogram')\n",
    "plt.show()"
   ]
  },
  {
   "cell_type": "code",
   "execution_count": 25,
   "metadata": {},
   "outputs": [
    {
     "data": {
      "image/png": "[encoded data removed]",
      "text/plain": [
       "<Figure size 432x288 with 1 Axes>"
      ]
     },
     "metadata": {
      "needs_background": "light"
     },
     "output_type": "display_data"
    }
   ],
   "source": [
    "x = np.random.randn(10)\n",
    "plt.hist(x)\n",
    "plt.show()"
   ]
  },
  {
   "cell_type": "code",
   "execution_count": null,
   "metadata": {},
   "outputs": [],
   "source": [
    "### untuk menentukan minimum width dan maximum width. \n",
    "### lebih baik dihitung dari value terkecil dibagi 2 lalu hasilnya dipakai ke value terkecil dan terbesar"
   ]
  },
  {
   "cell_type": "code",
   "execution_count": null,
   "metadata": {},
   "outputs": [],
   "source": [
    "x = np.random.randn(100000)\n",
    "bw = (x.max() - x.min()) / 100\n",
    "min = x.min() - (0.5 * x.min())\n",
    "max = x.max() + (0.5 * x.max())\n",
    "bins = np.arange(min, max, bw)\n",
    "\n",
    "plt.hist(x, bins)\n",
    "plt.show()"
   ]
  }
 ],
 "metadata": {
  "kernelspec": {
   "display_name": "Python 3",
   "language": "python",
   "name": "python3"
  },
  "language_info": {
   "codemirror_mode": {
    "name": "ipython",
    "version": 3
   },
   "file_extension": ".py",
   "mimetype": "text/x-python",
   "name": "python",
   "nbconvert_exporter": "python",
   "pygments_lexer": "ipython3",
   "version": "3.8.1"
  }
 },
 "nbformat": 4,
 "nbformat_minor": 4
}
