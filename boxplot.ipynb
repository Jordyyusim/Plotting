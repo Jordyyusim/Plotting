{
 "cells": [
  {
   "cell_type": "markdown",
   "metadata": {},
   "source": [
    "# __BOX PLOT__\n",
    "<HR>\n",
    "<HR>"
   ]
  },
  {
   "cell_type": "code",
   "execution_count": null,
   "metadata": {},
   "outputs": [],
   "source": [
    "### Decide Q1, Q2, and Median\n",
    "### Decide Min and Max value\n",
    "### Decide Low Outlier & High Outlier"
   ]
  },
  {
   "cell_type": "code",
   "execution_count": 1,
   "metadata": {},
   "outputs": [],
   "source": [
    "import numpy as np\n",
    "import pandas as pd\n",
    "import matplotlib.pyplot as plt"
   ]
  },
  {
   "cell_type": "code",
   "execution_count": 6,
   "metadata": {},
   "outputs": [
    {
     "data": {
      "text/plain": [
       "{'whiskers': [<matplotlib.lines.Line2D at 0x21f9cef8910>,\n",
       "  <matplotlib.lines.Line2D at 0x21f9cef8c70>],\n",
       " 'caps': [<matplotlib.lines.Line2D at 0x21f9cef8f70>,\n",
       "  <matplotlib.lines.Line2D at 0x21f9cf0d310>],\n",
       " 'boxes': [<matplotlib.lines.Line2D at 0x21f9cef86d0>],\n",
       " 'medians': [<matplotlib.lines.Line2D at 0x21f9cf0d670>],\n",
       " 'fliers': [<matplotlib.lines.Line2D at 0x21f9cf0d970>],\n",
       " 'means': []}"
      ]
     },
     "execution_count": 6,
     "metadata": {},
     "output_type": "execute_result"
    },
    {
     "data": {
      "image/png": "[encoded data removed]",
      "text/plain": [
       "<Figure size 432x288 with 1 Axes>"
      ]
     },
     "metadata": {
      "needs_background": "light"
     },
     "output_type": "display_data"
    }
   ],
   "source": [
    "x = [4,6,6,7,11,13,18,18,18,21,24,26,27,35,36,36,42,43,45,49]\n",
    "# Q1 = 12\n",
    "# Q3 = 36\n",
    "# Q2 = 22.5\n",
    "# min = 4\n",
    "# max = 49\n",
    "# IQR = Q3 - Q1 =24\n",
    "# low outlier = Q1 -(1.5 * IQR) = -24\n",
    "# high outlier = Q3 +(1.5 * IQR) = 72\n",
    "\n",
    "# x = pd.Series(x)\n",
    "# x.describe()\n",
    "plt.boxplot(x)\n",
    "# plt.boxplot(x, vert=False)"
   ]
  },
  {
   "cell_type": "markdown",
   "metadata": {},
   "source": [
    "![](1.png)"
   ]
  }
 ],
 "metadata": {
  "kernelspec": {
   "display_name": "Python 3",
   "language": "python",
   "name": "python3"
  },
  "language_info": {
   "codemirror_mode": {
    "name": "ipython",
    "version": 3
   },
   "file_extension": ".py",
   "mimetype": "text/x-python",
   "name": "python",
   "nbconvert_exporter": "python",
   "pygments_lexer": "ipython3",
   "version": "3.8.1"
  }
 },
 "nbformat": 4,
 "nbformat_minor": 4
}
